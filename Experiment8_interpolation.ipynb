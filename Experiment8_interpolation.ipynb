{
 "cells": [
  {
   "cell_type": "code",
   "execution_count": 24,
   "metadata": {
    "collapsed": true
   },
   "outputs": [],
   "source": [
    "%matplotlib inline\n",
    "import matplotlib.pyplot as mpl\n",
    "import numpy as np\n",
    "import scipy as sp"
   ]
  },
  {
   "cell_type": "markdown",
   "metadata": {},
   "source": [
    "### 参考\n",
    "- [5次lagrange插值函数多项式](http://wenku.baidu.com/link?url=KtOKobewIlc6SJDlY5faeLRPhkxsZYIvGeDrLq59669TVaLZ21VWYkWqfbBYvmqFEBtzZPX58pcWTHvDAK_hgWatlfcDaNuvy4HMoiszh13)\n",
    "- [分段低次插值](http://wenku.baidu.com/link?url=YmhFSfAigUOOd4nmxOq_1ZurlhHkesSzFUrYIhXdAdTqDAOMJ8mAHIqIzL3wRgF648zg7T_A4NEGH5ISTN_BC54WayWnxe8fiTz2r_pwbpy)"
   ]
  },
  {
   "cell_type": "markdown",
   "metadata": {},
   "source": [
    "### 获取随机数据\n",
    "```python\n",
    "def getdata():\n",
    "    a = np.zeros(10,np.double)\n",
    "    b = np.zeros(10,np.double)\n",
    "    for i in range(len(a)):\n",
    "        a[i] = np.random.uniform(-255,255)\n",
    "        b[i] = np.random.uniform(-255,255)\n",
    "        print '(%f,%f)' %(a[i],b[i]),\n",
    "    print \n",
    "    return a,b \n",
    "\n",
    "a = [0.4, 0.55, 0.65, 0.80, 0.95, 1.05]\n",
    "b = [0.41075, 0.57815, 0.69675, 0.90, 1.00, 1.25382]\n",
    "```"
   ]
  },
  {
   "cell_type": "code",
   "execution_count": 25,
   "metadata": {
    "collapsed": true
   },
   "outputs": [],
   "source": [
    "'使用课本数据'\n",
    "a = [1, 2, 3, 4, 5, 6, 7]\n",
    "b = [0.368, 0.135, 0.050, 0.018, 0.007, 0.002, 0.001]\n",
    "L = []"
   ]
  },
  {
   "cell_type": "markdown",
   "metadata": {},
   "source": [
    "### 构造插值多项式L1L2等"
   ]
  },
  {
   "cell_type": "code",
   "execution_count": 26,
   "metadata": {
    "collapsed": true
   },
   "outputs": [],
   "source": [
    "def createL(x,value):\n",
    "    # L = [1 for i in range(0,len(x))]\n",
    "    del L[:]\n",
    "    for i in xrange(0,len(x)):\n",
    "        L.append(1)\n",
    "    \n",
    "    # print L\n",
    "    # 对于5次和6次，不满6次的不存在,以此类推\n",
    "    for j in xrange(0, len(x)):\n",
    "        for i in range(0, len(x)):\n",
    "            if i == j:\n",
    "                continue\n",
    "            else:\n",
    "                L[j] *= (value-x[i])/(x[j]-x[i])"
   ]
  },
  {
   "cell_type": "code",
   "execution_count": 27,
   "metadata": {
    "collapsed": false
   },
   "outputs": [
    {
     "name": "stdout",
     "output_type": "stream",
     "text": [
      "[]\n",
      "0.581\n",
      "0.581\n"
     ]
    },
    {
     "data": {
      "text/plain": [
       "[<matplotlib.lines.Line2D at 0x890b550>]"
      ]
     },
     "execution_count": 27,
     "metadata": {},
     "output_type": "execute_result"
    },
    {
     "data": {
      "image/png": "[encoded data removed]",
      "text/plain": [
       "<matplotlib.figure.Figure at 0x866e048>"
      ]
     },
     "metadata": {},
     "output_type": "display_data"
    }
   ],
   "source": [
    "print L\n",
    "def Lar(x,y,a):\n",
    "    #t = np.zeros(len(a))\n",
    "    #t = a.copy()\n",
    "    ans = 0.0\n",
    "    for i in range(len(y)):\n",
    "        t = y[i]\n",
    "        for j in range(len(L)):\n",
    "            if i != j:\n",
    "                t *= (a-x[j])/(x[i]-x[j])\n",
    "        ans += t\n",
    "    return ans\n",
    "\n",
    "y2 = Lar(a,b,0.596)\n",
    "print y2\n",
    "y3 = Lar(a,b,0.99)\n",
    "print y3\n",
    "mpl.plot(a,b,'--*')"
   ]
  },
  {
   "cell_type": "code",
   "execution_count": 28,
   "metadata": {
    "collapsed": false
   },
   "outputs": [
    {
     "name": "stdout",
     "output_type": "stream",
     "text": [
      "[2.4320505641562637, -4.198924905637311, 6.13070982478659, -5.772904981898535, 3.3465545910052135, -1.0909123922122104, 0.1534272997999892]\n",
      "x=0.596 Larange插值为0.552160431566\n",
      "[1.0247265788223623, -0.060874846266675046, 0.07647213274793754, -0.06808814477225004, 0.03833141816043753, -0.012272174596675008, 0.001705035904862501]\n",
      "x=0.99 Larange插值为0.371724777406\n"
     ]
    },
    {
     "data": {
      "text/plain": [
       "[<matplotlib.lines.Line2D at 0x8f56940>]"
      ]
     },
     "execution_count": 28,
     "metadata": {},
     "output_type": "execute_result"
    },
    {
     "data": {
      "image/png": "[encoded data removed]",
      "text/plain": [
       "<matplotlib.figure.Figure at 0x85c0518>"
      ]
     },
     "metadata": {},
     "output_type": "display_data"
    }
   ],
   "source": [
    "def Larange(x,y,value):\n",
    "    #t = np.zeros(len(a))\n",
    "    #t = a.copy()\n",
    "    createL(x, value)\n",
    "    print L\n",
    "    ans = 0.0\n",
    "    for i in range(len(x)):\n",
    "        index = a.index(x[i])\n",
    "        t = y[index]\n",
    "        \n",
    "        t *= L[i]\n",
    "        ans += t\n",
    "    return ans\n",
    "\n",
    "y2 = Larange(a,b,0.596)\n",
    "print u\"x=0.596 Larange插值为%s\" %y2\n",
    "y3 = Larange(a,b,0.99)\n",
    "print u\"x=0.99 Larange插值为%s\" %y3\n",
    "mpl.plot(a,b,'--*')"
   ]
  },
  {
   "cell_type": "code",
   "execution_count": 29,
   "metadata": {
    "collapsed": false
   },
   "outputs": [
    {
     "name": "stdout",
     "output_type": "stream",
     "text": [
      "[]\n",
      "[]\n",
      "x=0.596 分段二次插值为0.0\n",
      "[]\n",
      "[]\n",
      "x=0.99 分段二次插值为0.0\n",
      "[0.0512512, 1.2300288000000004, -0.5125120000000001, 0.37273599999999996, -0.192192, 0.0585728, -0.007884799999999999]\n",
      "Larange插值为0.1647618944\n",
      "in fenduan\n",
      "1 2\n",
      "[1, 2, 3]\n",
      "[0.11999999999999997, 0.96, -0.07999999999999999]\n",
      "三点插值为0.16976\n"
     ]
    }
   ],
   "source": [
    "def Fenduan2(x, y, value):\n",
    "    F = []\n",
    "    del F[:]\n",
    "    for i in xrange(0,len(x)-1):\n",
    "        if value >= x[i] and value <= x[i+1]:\n",
    "            print \"in fenduan\"\n",
    "            print x[i],x[i+1]\n",
    "            if abs(value-x[i]) > abs(x[i+1] - x[i])/2:\n",
    "                #get i,i+1,i+2\n",
    "                if i+2 <= len(x):\n",
    "                    F = x[i:i+3]\n",
    "                else: F = x[len(x)-3:len(x)]\n",
    "            else:\n",
    "                #get i-1,i,i+1\n",
    "                if i+1 <= len(x):\n",
    "                    F = x[i-1:i+2]\n",
    "                else: F = x[len(x)-3:len(x)]\n",
    "\n",
    "    print F\n",
    "    ans = Larange(F,y,value)\n",
    "    return ans\n",
    "\n",
    "y2 = Fenduan2(a,b,0.596)\n",
    "print u\"x=0.596 分段二次插值为%s\" % y2\n",
    "y3 = Fenduan2(a,b,0.99)\n",
    "print u\"x=0.99 分段二次插值为%s\" % y3\n",
    "y4 = Larange(a,b,1.8)\n",
    "print u\"Larange插值为%s\" % y4\n",
    "y5 = Fenduan2(a,b,1.8)\n",
    "print u\"三点插值为%s\" % y5"
   ]
  },
  {
   "cell_type": "code",
   "execution_count": 30,
   "metadata": {
    "collapsed": false
   },
   "outputs": [
    {
     "name": "stdout",
     "output_type": "stream",
     "text": [
      "F is:\n",
      "[1, 2]\n",
      "[0.19999999999999996, 0.8]\n",
      "二点插值为0.1816\n"
     ]
    }
   ],
   "source": [
    "def Fenduan(x, y, value):\n",
    "    F = []\n",
    "    del F[:]\n",
    "    for i in xrange(0,len(x)-1):\n",
    "        if value >= x[i] and value <= x[i+1]:\n",
    "            if i+1 <= len(x):\n",
    "                F = x[i:i+2]\n",
    "            else: F = x[len(x)-2:len(x)]\n",
    "            \n",
    "    print u\"F is:\"\n",
    "    print F\n",
    "    ans = Larange(F,y,value)\n",
    "    return ans\n",
    "\n",
    "y6 = Fenduan(a,b,1.8)\n",
    "print u\"二点插值为%s\" % y6\n",
    "\n",
    "mpl.show()\n"
   ]
  }
 ],
 "metadata": {
  "kernelspec": {
   "display_name": "Python 2",
   "language": "python",
   "name": "python2"
  },
  "language_info": {
   "codemirror_mode": {
    "name": "ipython",
    "version": 2
   },
   "file_extension": ".py",
   "mimetype": "text/x-python",
   "name": "python",
   "nbconvert_exporter": "python",
   "pygments_lexer": "ipython2",
   "version": "2.7.12"
  }
 },
 "nbformat": 4,
 "nbformat_minor": 0
}
