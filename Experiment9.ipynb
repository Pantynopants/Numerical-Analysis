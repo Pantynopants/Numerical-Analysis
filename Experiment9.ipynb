{
 "cells": [
  {
   "cell_type": "code",
   "execution_count": 10,
   "metadata": {
    "collapsed": true
   },
   "outputs": [],
   "source": [
    "from math import *"
   ]
  },
  {
   "cell_type": "markdown",
   "metadata": {},
   "source": [
    "### '定义被积分函数---题干的分问题'"
   ]
  },
  {
   "cell_type": "code",
   "execution_count": 11,
   "metadata": {
    "collapsed": true
   },
   "outputs": [],
   "source": [
    "def func(x): \n",
    "    return sqrt(4 - ((sin(x))**2))\n",
    "# def func(x):\n",
    "#     return x**3"
   ]
  },
  {
   "cell_type": "code",
   "execution_count": 12,
   "metadata": {
    "collapsed": true
   },
   "outputs": [],
   "source": [
    "def Get_N(a,b,width):\n",
    "    # width为步长 n为迭代次数\n",
    "    N = int((b-a)/width + 1)#向上取整\n",
    "    if N%2 == 0:\n",
    "        N = N + 1\n",
    "    return N"
   ]
  },
  {
   "cell_type": "code",
   "execution_count": 13,
   "metadata": {
    "collapsed": true
   },
   "outputs": [],
   "source": [
    "def GenerateData(a,b,n,width):\n",
    "    datas = []\n",
    "    r = a\n",
    "    for i in range(0,n):\n",
    "        datas.append(func(r))\n",
    "        r = r+width\n",
    "        # print r\n",
    "    return datas"
   ]
  },
  {
   "cell_type": "code",
   "execution_count": 14,
   "metadata": {
    "collapsed": true
   },
   "outputs": [],
   "source": [
    "def NC_integral(datas,width,n):\n",
    "    sum = datas[0]+datas[n-1]\n",
    "    for i in range(2,n):\n",
    "        sum = sum + 2*datas[i-1]\n",
    "    return sum*width/2.0"
   ]
  },
  {
   "cell_type": "code",
   "execution_count": 15,
   "metadata": {
    "collapsed": true
   },
   "outputs": [],
   "source": [
    "def simpson_integral(datas,width,n):\n",
    "    sum = datas[0]+datas[n-1]\n",
    "    for i in range(2,n):\n",
    "        if i%2 == 0:\n",
    "            sum = sum + 4*datas[i-1]#奇数\n",
    "        else:\n",
    "            sum = sum + 2*datas[i-1]#偶数\n",
    "    return sum*width/3.0"
   ]
  },
  {
   "cell_type": "code",
   "execution_count": 16,
   "metadata": {
    "collapsed": true
   },
   "outputs": [],
   "source": [
    "def Romberg(a, b, e, m):\n",
    "    # a,b 积分上下限 e精度 m最大次数\n",
    "    RT = []\n",
    "    n = 1\n",
    "    h = b-a\n",
    "    # 误差估计\n",
    "    wugu = 1\n",
    "    x = a\n",
    "    k = 0\n",
    "\n",
    "    for i in range(0, 4):\n",
    "        tmp = []\n",
    "        for j in range(0, 4):\n",
    "            tmp.append(0)\n",
    "        RT.append(tmp)\n",
    "    print RT\n",
    "\n",
    "    RT[0][0] = h*(func(b) + func(a))/2\n",
    "    while (wugu > e and k < m) and k<=2:\n",
    "        # print k\n",
    "        k += 1\n",
    "        h /= 2.0\n",
    "        s = 0.0\n",
    "        for j in xrange(1,n):\n",
    "            x = a + h*(2.0*j - 1.0)\n",
    "            s += func(x)\n",
    "\n",
    "        \n",
    "        RT[k][0] = RT[k-1][0]/2 + h*s\n",
    "        n *= 2\n",
    "        for i in xrange(1,k+1):\n",
    "            RT[k][i] = ( (4.0**i) * RT[k][i-1] - RT[k-1][i-1])/(4.0**i - 1.0)\n",
    "        wugu = abs(RT[k][k-1] - RT[k][k])\n",
    "\n",
    "    print k\n",
    "    return RT[k][k]"
   ]
  },
  {
   "cell_type": "code",
   "execution_count": 17,
   "metadata": {
    "collapsed": false
   },
   "outputs": [
    {
     "name": "stdout",
     "output_type": "stream",
     "text": [
      "[2.0, 1.9984604500208576, 1.9938726785197636, 1.9863290920927943, 1.9759829192549903, 1.9630469659672622, 1.9477917306904855, 1.9305427345360096, 1.9116768809575204, 1.8916176232315334, 1.8708286933869707]\n",
      "1.53439219451\n",
      "1.53425453229\n",
      "[[0, 0, 0, 0], [0, 0, 0, 0], [0, 0, 0, 0], [0, 0, 0, 0]]\n",
      "3\n",
      "0.644848392248\n",
      "[[0, 0, 0, 0], [0, 0, 0, 0], [0, 0, 0, 0], [0, 0, 0, 0]]\n",
      "3\n",
      "1.19699871727\n"
     ]
    }
   ],
   "source": [
    "    a = 0.0 #积分下限\n",
    "    b = pi/4\n",
    "    h = 0.0625 #步长\n",
    "    # \n",
    "\n",
    "    h = (b-a)/10\n",
    "    # print func(0)\n",
    "    N = Get_N(a,b,h)\n",
    "    # print N\n",
    "    datas = GenerateData(a,b,N,h)\n",
    "    print datas\n",
    "    print simpson_integral(datas,h,N)\n",
    "    print NC_integral(datas,h,N)\n",
    "    print Romberg(0.5, 1, 1e-6, 10)\n",
    "    print Romberg(1, 2, 1e-6, 10)"
   ]
  },
  {
   "cell_type": "code",
   "execution_count": 18,
   "metadata": {
    "collapsed": true
   },
   "outputs": [],
   "source": [
    "def func(x):\n",
    "    if x == 0:\n",
    "        return 1\n",
    "    return sin(x)/x"
   ]
  },
  {
   "cell_type": "code",
   "execution_count": 19,
   "metadata": {
    "collapsed": false
   },
   "outputs": [
    {
     "name": "stdout",
     "output_type": "stream",
     "text": [
      "[1, 0.9983341664682815, 0.9933466539753061, 0.9850673555377986, 0.9735458557716262, 0.958851077208406, 0.9410707889917257, 0.9203109817681301, 0.8966951136244035, 0.870363232919426, 0.8414709848078965]\n",
      "0.946083168838\n",
      "0.945832071867\n",
      "[[0, 0, 0, 0], [0, 0, 0, 0], [0, 0, 0, 0], [0, 0, 0, 0]]\n",
      "3\n",
      "0.313162015312\n",
      "[[0, 0, 0, 0], [0, 0, 0, 0], [0, 0, 0, 0], [0, 0, 0, 0]]\n",
      "3\n",
      "0.481390164692\n"
     ]
    }
   ],
   "source": [
    "    a = 0.0 #积分下限\n",
    "    b = 1.0 #积分上限\n",
    "    # h = 0.0625 #步长\n",
    "    h = (b-a)/10\n",
    "\n",
    "    N = Get_N(a,b,h)\n",
    "    # print N\n",
    "    datas = GenerateData(a,b,N,h)\n",
    "    print datas\n",
    "    print simpson_integral(datas,h,N)\n",
    "    print NC_integral(datas,h,N)\n",
    "    print Romberg(0.5, 1, 1e-6, 10)\n",
    "    print Romberg(1, 2, 1e-6, 10)"
   ]
  }
 ],
 "metadata": {
  "kernelspec": {
   "display_name": "Python 2",
   "language": "python",
   "name": "python2"
  },
  "language_info": {
   "codemirror_mode": {
    "name": "ipython",
    "version": 2
   },
   "file_extension": ".py",
   "mimetype": "text/x-python",
   "name": "python",
   "nbconvert_exporter": "python",
   "pygments_lexer": "ipython2",
   "version": "2.7.12"
  }
 },
 "nbformat": 4,
 "nbformat_minor": 0
}
