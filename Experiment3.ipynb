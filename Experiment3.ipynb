{
 "cells": [
  {
   "cell_type": "code",
   "execution_count": 20,
   "metadata": {
    "collapsed": false
   },
   "outputs": [],
   "source": [
    "%matplotlib inline\n",
    "from numpy import *\n",
    "import matplotlib.pyplot as plt\n",
    "import scipy.linalg as linalg"
   ]
  },
  {
   "cell_type": "code",
   "execution_count": 21,
   "metadata": {
    "collapsed": false
   },
   "outputs": [],
   "source": [
    "A1 = array([[4, 2, -3, -1, 2, 1, 0, 0, 0, 0],\n",
    "           [8, 6, -5, -3, 6, 5, 0, 1, 0, 0],\n",
    "           [4, 2, -2, -1, 3, 2, -1, 0, 3, 1],\n",
    "           [0, -2, 1, 5, -1, 3, -1, 1, 9, 4],\n",
    "           [-4, 2, 6, -1, 6, 7, -3, 3, 2, 3],\n",
    "           [8, 6, -8, 5, 7, 17, 2, 6, -3, 5],\n",
    "           [0, 2, -1, 3, -4, 2, 5, 3, 0, 1],\n",
    "           [16, 10, -11, -9, 17, 34, 2, -1, 2, 2],\n",
    "           [4, 6, 2, -7, 13, 9, 2, 0, 12, 4],\n",
    "           [0, 0, -1, 8, -3, -24, -8, 6, 3, -1]\n",
    "          ])\n",
    "B1 = array([5, 12, 3, 2, 3, 46, 13, 38, 19, -21])\n",
    "\n",
    "A2 = array([[4, 2, -4, 0, 2, 4, 0, 0],\n",
    "           [2, 2, -1, -2, 1, 3, 2, 0],\n",
    "           [-4, -1, 14, 1, -8, -3, 5, 6],\n",
    "           [0, -2, 1, 6, -1, -4, -3, 3],\n",
    "           [2, 1, -8, -1, 22, 4, -10, -3],\n",
    "           [4, 3, -3, -4, 4, 11, 1, -4],\n",
    "           [0, 2, 5, -3, -10, 1, 14, 2],\n",
    "           [0, 0, 6, 3, -3, -4, 2, 19]\n",
    "          ])\n",
    "\n",
    "B2 = array([0, -6, 6, 23, 11, -22, -15, 45])\n",
    "\n",
    "A3 = array([[4, -1, 0, 0, 0, 0, 0, 0, 0, 0],\n",
    "           [-1, 4, -1, 0, 0, 0, 0, 0, 0, 0],\n",
    "           [0, -1, 4, -1, 0, 0, 0, 0, 0, 0],\n",
    "           [0, 0, -1, 4, -1, 0, 0, 0, 0, 0],\n",
    "           [0, 0, 0, -1, 4, -1, 0, 0, 0, 0],\n",
    "           [0, 0, 0, 0, -1, 4, -1, 0, 0, 0],\n",
    "           [0, 0, 0, 0, 0, -1, 4, -1, 0, 0],\n",
    "           [0, 0, 0, 0, 0, 0, -1, 4, -1, 0],\n",
    "           [0, 0, 0, 0, 0, 0, 0, -1, 4, -1],\n",
    "           [0, 0, 0, 0, 0, 0, 0, 0, -1, 4],\n",
    "\n",
    "          ])\n",
    "\n",
    "B3 = array([7, 5, -13, 2, 6, -12, 14, -4, 5, -5])"
   ]
  },
  {
   "cell_type": "markdown",
   "metadata": {
    "collapsed": true
   },
   "source": [
    "## A B 为线性方程组, x0为初值,e为精度.返回结果矩阵和误差(按题目要求,此处未处理)"
   ]
  },
  {
   "cell_type": "code",
   "execution_count": 22,
   "metadata": {
    "collapsed": true
   },
   "outputs": [],
   "source": [
    "def GSiterate(A, B, X0, e):\n",
    "    B = B.T\n",
    "    X_k = X0\n",
    "    'shape (行，列)形式的元组'\n",
    "    X_k1 = zeros(X0.shape)\n",
    "    n = B.shape[0] #取行数\n",
    "    delta = 10 #为当前精度\n",
    "    k = 0 #循环次数\n",
    "    k_max = 500 #最大循环次数\n",
    "    while delta > e:\n",
    "        '外层为迭代'\n",
    "        for i in range(n):\n",
    "            '内层为更新每行所有的值'\n",
    "            # print i, B[i], A[i,0:i], X_k1[0:i], A[i,i:n], X_k[i:n], A[i,i]\n",
    "            # print dot(A[i,0:i],X_k1[0:i])\n",
    "            'A[i,0:i] 与 X_k1[0:i] 都是一维的行/列向量，所以dot()[0]也可以写成dot()'\n",
    "            X_k1[i] = X_k[i] + 1.0 * ( B[i] - dot(A[i,0:i],X_k1[0:i])[0] - dot(A[i,i:n], X_k[i:n])[0] ) / A[i,i]\n",
    "\n",
    "        delta = max(abs(X_k1-X_k))\n",
    "        X_k = X_k1.copy()\n",
    "        result = X_k.T[0]\n",
    "        k = k + 1\n",
    "        if k > k_max:\n",
    "            print u\"迭代次数：%s\" % k\n",
    "            return result,delta\n",
    "    print u\"迭代次数：%s\" % k\n",
    "    return result, delta"
   ]
  },
  {
   "cell_type": "code",
   "execution_count": 23,
   "metadata": {
    "collapsed": true
   },
   "outputs": [],
   "source": [
    "def Jiterate(A, B, X0, e):\n",
    "    B = B.T\n",
    "    X_k = X0\n",
    "    'shape (行，列)形式的元组'\n",
    "    X_k1 = zeros(X0.shape)\n",
    "    n = B.shape[0] #取行数\n",
    "    delta = 10 #为当前精度\n",
    "    k = 0 #循环次数\n",
    "    k_max = 500 #最大循环次数\n",
    "    while delta > e:\n",
    "        '外层为迭代'\n",
    "        for i in range(n):\n",
    "            '内层为更新每行所有的值'\n",
    "            # print i, B[i], A[i,0:i], X_k1[0:i], A[i,i:n], X_k[i:n], A[i,i]\n",
    "            # print dot(A[i,0:i],X_k1[0:i])\n",
    "            'A[i,0:i] 与 X_k1[0:i] 都是一维的行/列向量，所以dot()[0]也可以写成dot()'\n",
    "            X_k1[i] = 1.0 * ( B[i] - dot(A[i,0:i],X_k[0:i])[0] - dot(A[i,i+1:n], X_k[i+1:n])[0] ) / A[i,i]\n",
    "            # print i,X_k1[i]\n",
    "            # print\n",
    "\n",
    "        delta = max(abs(X_k1-X_k))\n",
    "        X_k = X_k1.copy()\n",
    "        result = X_k.T[0]\n",
    "        k = k + 1\n",
    "        if k > k_max:\n",
    "            print u\"迭代次数：%s\" % k\n",
    "            return result,delta\n",
    "    print u\"迭代次数：%s\" % k\n",
    "    return result, delta"
   ]
  },
  {
   "cell_type": "markdown",
   "metadata": {},
   "source": [
    "## A B 为线性方程组， x0为初值，e为精度 w为松弛因子"
   ]
  },
  {
   "cell_type": "code",
   "execution_count": 24,
   "metadata": {
    "collapsed": true
   },
   "outputs": [],
   "source": [
    "def SORiterate(A, B, X0, e, w):\n",
    "    B = B.T\n",
    "    X_k = X0\n",
    "    'shape (行，列)形式的元组'\n",
    "    X_k1 = zeros(X0.shape)\n",
    "    n = B.shape[0] #取行数\n",
    "    delta = 10 #为当前精度\n",
    "    k = 0 #循环次数\n",
    "    k_max = 500 #最大循环次数\n",
    "    while delta > e:\n",
    "        '外层为迭代'\n",
    "        for i in range(n):\n",
    "            '内层为更新每行所有的值'\n",
    "            # print i, B[i], A[i,0:i], X_k1[0:i], A[i,i:n], X_k[i:n], A[i,i]\n",
    "            # print dot(A[i,0:i],X_k1[0:i])\n",
    "            'A[i,0:i] 与 X_k1[0:i] 都是一维的行/列向量，所以dot()[0]也可以写成dot()'\n",
    "            X_k1[i] = X_k[i] + w * ( B[i] - dot(A[i,0:i],X_k1[0:i])[0] - dot(A[i,i:n], X_k[i:n])[0] ) / A[i,i]\n",
    "            # print i,X_k1[i]\n",
    "            # print\n",
    "\n",
    "        delta = max(abs(X_k1-X_k))\n",
    "        X_k = X_k1.copy()\n",
    "        result = X_k.T[0]\n",
    "        k = k + 1\n",
    "        if k > k_max:\n",
    "            print u\"迭代次数：%s\" % k\n",
    "            return result,delta\n",
    "    print u\"迭代次数：%s\" % k\n",
    "    return result, delta"
   ]
  },
  {
   "cell_type": "code",
   "execution_count": 25,
   "metadata": {
    "collapsed": false
   },
   "outputs": [
    {
     "name": "stdout",
     "output_type": "stream",
     "text": [
      "8\n",
      "X0: \n",
      "[[0]\n",
      " [0]\n",
      " [0]\n",
      " [0]\n",
      " [0]\n",
      " [0]\n",
      " [0]\n",
      " [0]]\n"
     ]
    }
   ],
   "source": [
    "a = A2\n",
    "b = B2\n",
    "print b.shape[0]\n",
    "X0 = array([[(i/i)-1 for i in xrange(1,b.shape[0]+1)]])\n",
    "X0 = matrix(X0)\n",
    "X0 = X0.getT()\n",
    "print \"X0: \"\n",
    "print X0\n",
    "e = 1e-3"
   ]
  },
  {
   "cell_type": "code",
   "execution_count": 26,
   "metadata": {
    "collapsed": false
   },
   "outputs": [
    {
     "name": "stdout",
     "output_type": "stream",
     "text": [
      "J: \n",
      "迭代次数：501\n",
      "[ -1.46589136e+144  -2.21124013e+144   6.01430752e+143   8.76927509e+143\n",
      "  -3.57525719e+143  -9.59016349e+143  -3.04938751e+142   3.00681538e+143]\n",
      "[  3.35065365e+144]\n",
      "\n",
      "\n",
      "\n"
     ]
    }
   ],
   "source": [
    "print \"J: \"\n",
    "X1,eX1 = Jiterate(a, b, X0, e)\n",
    "print X1\n",
    "print eX1\n",
    "print \"\\n\\n\""
   ]
  },
  {
   "cell_type": "code",
   "execution_count": 27,
   "metadata": {
    "collapsed": false
   },
   "outputs": [
    {
     "name": "stdout",
     "output_type": "stream",
     "text": [
      "GS: \n",
      "迭代次数：133\n",
      "(array([ 1.16044845, -1.18863123,  0.03768047,  1.91661986,  1.01327152,\n",
      "       -1.03424435,  0.00822543,  1.99528652]), array([ 0.00099722]))\n",
      "\n",
      "\n",
      "\n"
     ]
    }
   ],
   "source": [
    "print \"GS: \"\n",
    "X2 = GSiterate(a, b, X0, e)\n",
    "print X2\n",
    "print \"\\n\\n\""
   ]
  },
  {
   "cell_type": "code",
   "execution_count": 28,
   "metadata": {
    "collapsed": false
   },
   "outputs": [
    {
     "name": "stdout",
     "output_type": "stream",
     "text": [
      "SOR: \n",
      "in w=0.8\n",
      "迭代次数：13\n",
      "(array([ 1.10399776, -1.11816223,  0.02542281,  1.947348  ,  1.00971978,\n",
      "       -1.02364351,  0.00589161,  1.99612744]), array([ 0.00073224]))\n",
      "in w=0.9\n",
      "迭代次数：14\n",
      "(array([ 1.19402514, -1.22700843,  0.04589841,  1.89965798,  1.01643703,\n",
      "       -1.04180431,  0.01016844,  1.99405446]), array([ 0.00096882]))\n",
      "in w=1.0\n",
      "迭代次数：133\n",
      "(array([ 1.16044845, -1.18863123,  0.03768047,  1.91661986,  1.01327152,\n",
      "       -1.03424435,  0.00822543,  1.99528652]), array([ 0.00099722]))\n",
      "in w=1.1\n",
      "迭代次数：197\n",
      "(array([ 1.13142103, -1.1543482 ,  0.03085899,  1.93177861,  1.01086025,\n",
      "       -1.02805004,  0.00672304,  1.99613094]), array([ 0.00099861]))\n",
      "in w=1.2\n",
      "迭代次数：228\n",
      "(array([ 1.10679959, -1.12527165,  0.02507298,  1.94463503,  1.00881514,\n",
      "       -1.02279596,  0.00544894,  1.99684738]), array([ 0.00099652]))\n"
     ]
    }
   ],
   "source": [
    " print \"SOR: \"\n",
    "w = [i/10.0 for i in xrange(8,13)]\n",
    "for i in w:\n",
    "    print \"in w=%s\" % i\n",
    "    X3 = SORiterate(a, b, X0, e, i)\n",
    "    print X3\n"
   ]
  },
  {
   "cell_type": "markdown",
   "metadata": {},
   "source": [
    "## 使用numpy包中的linalg.solve()方法解多元一次方程"
   ]
  },
  {
   "cell_type": "code",
   "execution_count": 29,
   "metadata": {
    "collapsed": false
   },
   "outputs": [
    {
     "name": "stdout",
     "output_type": "stream",
     "text": [
      "[  1.00000000e+00  -1.00000000e+00   6.00577789e-15   2.00000000e+00\n",
      "   1.00000000e+00  -1.00000000e+00   1.84389892e-15   2.00000000e+00]\n"
     ]
    }
   ],
   "source": [
    "X = linalg.solve(a,b)\n",
    "print X"
   ]
  }
 ],
 "metadata": {
  "kernelspec": {
   "display_name": "Python 2",
   "language": "python",
   "name": "python2"
  },
  "language_info": {
   "codemirror_mode": {
    "name": "ipython",
    "version": 2
   },
   "file_extension": ".py",
   "mimetype": "text/x-python",
   "name": "python",
   "nbconvert_exporter": "python",
   "pygments_lexer": "ipython2",
   "version": "2.7.11"
  }
 },
 "nbformat": 4,
 "nbformat_minor": 0
}
