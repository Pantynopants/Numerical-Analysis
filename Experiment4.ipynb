{
 "cells": [
  {
   "cell_type": "code",
   "execution_count": 27,
   "metadata": {
    "collapsed": false
   },
   "outputs": [],
   "source": [
    "%matplotlib inline\n",
    "from numpy import *\n",
    "import scipy.linalg as linalg\n",
    "import matplotlib.pyplot as plt"
   ]
  },
  {
   "cell_type": "code",
   "execution_count": 28,
   "metadata": {
    "collapsed": false
   },
   "outputs": [],
   "source": [
    "def m1(x):\n",
    "    print \"in function 1\"\n",
    "    if x == 0:\n",
    "        return 0\n",
    "    return (3*x + 1.0)/x**2\n",
    "\n",
    "def m2(x):\n",
    "    print \"in function 2\"\n",
    "    return (x**3 - 1.0)/3.0\n",
    "\n",
    "def m3(x):\n",
    "    print \"in function 3\"\n",
    "    return (3*x + 1.0)**(1./3)  \n",
    "\n",
    "def m4(x):\n",
    "    print \"in function 4\"\n",
    "    return (x**2 - 3.0)**(-1)\n",
    "\n",
    "def m5(x):\n",
    "    print \"in function 5\"\n",
    "    return ( 3 + 1/x)*(1./2)\n",
    "\n",
    "def m6(x):\n",
    "    print \"in function 6\"\n",
    "    return (x - (x**3 - 3*x - 1)/(3*x**2 - 3))\n",
    "\n",
    "def easy(methods, x0, e):\n",
    "    # print 3.0**(-1)\n",
    "    x = x0\n",
    "    x1 = 0.0\n",
    "    # func = {1:m1, 2:m2, 3:m3}\n",
    "    # func[2](x)\n",
    "    func = [m1, m2, m3, m4, m5, m6]\n",
    "    ploty = []\n",
    "    plotx = []\n",
    "\n",
    "    delta = 10.0 #为当前精度\n",
    "    k = 0 #循环次数\n",
    "    k_max = 100 #最大循环次数\n",
    "\n",
    "    plt.figure(1)\n",
    "    '误差大于精度要求 和 x1与x的差不太大时，循环'\n",
    "    while ((delta > e) and fabs(delta) < 1000):\n",
    "        x1 = func[methods](x)\n",
    "        print x1, x, delta\n",
    "        ploty.append(x)\n",
    "        plotx.append(k)\n",
    "        delta = fabs(x1 - x)\n",
    "        x = x1\n",
    "        \n",
    "        if k >= k_max: return x1\n",
    "        k += 1\n",
    "\n",
    "    plt.plot(plotx, ploty)\n",
    "    plt.show()"
   ]
  },
  {
   "cell_type": "code",
   "execution_count": 29,
   "metadata": {
    "collapsed": false,
    "scrolled": true
   },
   "outputs": [
    {
     "name": "stdout",
     "output_type": "stream",
     "text": [
      "in function 1\n",
      "2.44444444444 1.5 10.0\n",
      "in function 1\n",
      "1.39462809917 2.44444444444 0.944444444444\n",
      "in function 1\n",
      "2.66525322359 1.39462809917 1.04981634527\n",
      "in function 1\n",
      "1.26637080521 2.66525322359 1.27062512442\n",
      "in function 1\n",
      "2.99253434531 1.26637080521 1.39888241839\n",
      "in function 1\n",
      "1.11416095364 2.99253434531 1.7261635401\n",
      "in function 1\n",
      "3.49818074048 1.11416095364 1.87837339167\n",
      "in function 1\n",
      "0.939306204481 3.49818074048 2.38401978684\n",
      "in function 1\n",
      "4.32725296571 0.939306204481 2.558874536\n",
      "in function 1\n",
      "0.746684679155 4.32725296571 3.38794676122\n",
      "in function 1\n",
      "5.81135990526 0.746684679155 3.58056828655\n",
      "in function 1\n",
      "0.545840700717 5.81135990526 5.0646752261\n",
      "in function 1\n",
      "8.85246617639 0.545840700717 5.26551920454\n",
      "in function 1\n",
      "0.35164922515 8.85246617639 8.30662547568\n",
      "in function 1\n",
      "16.6181026948 0.35164922515 8.50081695124\n",
      "in function 1\n",
      "0.184147095335 16.6181026948 16.2664534696\n",
      "in function 1\n",
      "45.7810172315 0.184147095335 16.4339555994\n",
      "in function 1\n",
      "0.0660064650638 45.7810172315 45.5968701361\n",
      "in function 1\n",
      "274.973536379 0.0660064650638 45.7150107664\n",
      "in function 1\n",
      "0.0109233664925 274.973536379 274.907529914\n",
      "in function 1\n",
      "8655.46980812 0.0109233664925 274.962613013\n"
     ]
    },
    {
     "data": {
      "image/png": "[encoded data removed]",
      "text/plain": [
       "<matplotlib.figure.Figure at 0x83d1c88>"
      ]
     },
     "metadata": {},
     "output_type": "display_data"
    }
   ],
   "source": [
    "easy(0, 1.5, 1e-3)\n"
   ]
  },
  {
   "cell_type": "code",
   "execution_count": 30,
   "metadata": {
    "collapsed": false
   },
   "outputs": [
    {
     "name": "stdout",
     "output_type": "stream",
     "text": [
      "in function 2\n",
      "-1.45833333333 -1.5 10.0\n",
      "in function 2\n",
      "-1.36716338735 -1.45833333333 0.0416666666667\n",
      "in function 2\n",
      "-1.18513797763 -1.36716338735 0.0911699459877\n",
      "in function 2\n",
      "-0.888195982531 -1.18513797763 0.182025409716\n",
      "in function 2\n",
      "-0.566896932292 -0.888195982531 0.296941995099\n",
      "in function 2\n",
      "-0.394061625222 -0.566896932292 0.321299050239\n",
      "in function 2\n",
      "-0.353730562616 -0.394061625222 0.17283530707\n",
      "in function 2\n",
      "-0.348086882211 -0.353730562616 0.0403310626059\n",
      "in function 2\n",
      "-0.347391921744 -0.348086882211 0.00564368040521\n"
     ]
    },
    {
     "data": {
      "image/png": "[encoded data removed]",
      "text/plain": [
       "<matplotlib.figure.Figure at 0x8281668>"
      ]
     },
     "metadata": {},
     "output_type": "display_data"
    }
   ],
   "source": [
    "easy(1, -1.5, 1e-3)"
   ]
  },
  {
   "cell_type": "code",
   "execution_count": 31,
   "metadata": {
    "collapsed": false,
    "scrolled": true
   },
   "outputs": [
    {
     "name": "stdout",
     "output_type": "stream",
     "text": [
      "in function 3\n",
      "1.0 0.0 10.0\n",
      "in function 3\n",
      "1.58740105197 1.0 1.0\n",
      "in function 3\n",
      "1.79279041656 1.58740105197 0.587401051968\n",
      "in function 3\n",
      "1.85454167782 1.79279041656 0.205389364589\n",
      "in function 3\n",
      "1.87232507777 1.85454167782 0.061751261265\n",
      "in function 3\n",
      "1.87738424829 1.87232507777 0.0177833999427\n",
      "in function 3\n",
      "1.87881855233 1.87738424829 0.00505917052074\n",
      "in function 3\n",
      "1.87922478762 1.87881855233 0.0014343040462\n"
     ]
    },
    {
     "data": {
      "image/png": "[encoded data removed]",
      "text/plain": [
       "<matplotlib.figure.Figure at 0x7f6aa58>"
      ]
     },
     "metadata": {},
     "output_type": "display_data"
    }
   ],
   "source": [
    "easy(2, 0.0, 1e-3)"
   ]
  },
  {
   "cell_type": "code",
   "execution_count": 32,
   "metadata": {
    "collapsed": false
   },
   "outputs": [
    {
     "name": "stdout",
     "output_type": "stream",
     "text": [
      "in function 4\n",
      "-2.27272727273 -1.6 10.0\n",
      "in function 4\n",
      "0.461832061069 -2.27272727273 0.672727272727\n",
      "in function 4\n",
      "-0.358845946751 0.461832061069 2.7345593338\n",
      "in function 4\n",
      "-0.348282841853 -0.358845946751 0.82067800782\n",
      "in function 4\n",
      "-0.347379138436 -0.348282841853 0.0105631048978\n"
     ]
    },
    {
     "data": {
      "image/png": "[encoded data removed]",
      "text/plain": [
       "<matplotlib.figure.Figure at 0x7c74828>"
      ]
     },
     "metadata": {},
     "output_type": "display_data"
    }
   ],
   "source": [
    "easy(3, -1.6, 1e-3)"
   ]
  },
  {
   "cell_type": "code",
   "execution_count": 33,
   "metadata": {
    "collapsed": false
   },
   "outputs": [
    {
     "name": "stdout",
     "output_type": "stream",
     "text": [
      "in function 5\n",
      "1.22222222222 -1.8 10.0\n",
      "in function 5\n",
      "1.90909090909 1.22222222222 3.02222222222\n",
      "in function 5\n",
      "1.7619047619 1.90909090909 0.686868686869\n",
      "in function 5\n",
      "1.78378378378 1.7619047619 0.147186147186\n",
      "in function 5\n",
      "1.7803030303 1.78378378378 0.021879021879\n",
      "in function 5\n",
      "1.78085106383 1.7803030303 0.00348075348075\n"
     ]
    },
    {
     "data": {
      "image/png": "[encoded data removed]",
      "text/plain": [
       "<matplotlib.figure.Figure at 0x7bab7b8>"
      ]
     },
     "metadata": {},
     "output_type": "display_data"
    }
   ],
   "source": [
    "easy(4, -1.8, 1e-3)"
   ]
  },
  {
   "cell_type": "code",
   "execution_count": 34,
   "metadata": {
    "collapsed": false
   },
   "outputs": [
    {
     "name": "stdout",
     "output_type": "stream",
     "text": [
      "in function 6\n",
      "-1.53333333333 -1.5 10.0\n",
      "in function 6\n",
      "-1.53209064327 -1.53333333333 0.0333333333333\n",
      "in function 6\n",
      "-1.53208888624 -1.53209064327 0.00124269005848\n"
     ]
    },
    {
     "data": {
      "image/png": "[encoded data removed]",
      "text/plain": [
       "<matplotlib.figure.Figure at 0x7e0b390>"
      ]
     },
     "metadata": {},
     "output_type": "display_data"
    }
   ],
   "source": [
    "easy(5, -1.5, 1e-3)"
   ]
  },
  {
   "cell_type": "code",
   "execution_count": 35,
   "metadata": {
    "collapsed": false
   },
   "outputs": [
    {
     "ename": "ImportError",
     "evalue": "cannot import name _lbfgsb",
     "output_type": "error",
     "traceback": [
      "\u001b[1;31m---------------------------------------------------------------------------\u001b[0m",
      "\u001b[1;31mImportError\u001b[0m                               Traceback (most recent call last)",
      "\u001b[1;32m<ipython-input-35-1db01f30bffa>\u001b[0m in \u001b[0;36m<module>\u001b[1;34m()\u001b[0m\n\u001b[1;32m----> 1\u001b[1;33m \u001b[1;32mfrom\u001b[0m \u001b[0mscipy\u001b[0m\u001b[1;33m.\u001b[0m\u001b[0moptimize\u001b[0m \u001b[1;32mimport\u001b[0m \u001b[0mfsolve\u001b[0m\u001b[1;33m\u001b[0m\u001b[0m\n\u001b[0m\u001b[0;32m      2\u001b[0m \u001b[1;32mfrom\u001b[0m \u001b[0mmath\u001b[0m \u001b[1;32mimport\u001b[0m \u001b[0mcos\u001b[0m\u001b[1;33m\u001b[0m\u001b[0m\n\u001b[0;32m      3\u001b[0m \u001b[1;31m# 解非线性方程常用matlab的fsolve方法\u001b[0m\u001b[1;33m\u001b[0m\u001b[1;33m\u001b[0m\u001b[0m\n\u001b[0;32m      4\u001b[0m \u001b[1;32mdef\u001b[0m \u001b[0mf\u001b[0m\u001b[1;33m(\u001b[0m\u001b[0mx\u001b[0m\u001b[1;33m)\u001b[0m\u001b[1;33m:\u001b[0m\u001b[1;33m\u001b[0m\u001b[0m\n\u001b[0;32m      5\u001b[0m     \u001b[0md\u001b[0m \u001b[1;33m=\u001b[0m \u001b[1;36m140\u001b[0m\u001b[1;33m\u001b[0m\u001b[0m\n",
      "\u001b[1;32mC:\\Anaconda2\\lib\\site-packages\\scipy\\optimize\\__init__.py\u001b[0m in \u001b[0;36m<module>\u001b[1;34m()\u001b[0m\n\u001b[0;32m    231\u001b[0m \u001b[1;33m\u001b[0m\u001b[0m\n\u001b[0;32m    232\u001b[0m \u001b[1;32mfrom\u001b[0m \u001b[1;33m.\u001b[0m\u001b[0moptimize\u001b[0m \u001b[1;32mimport\u001b[0m \u001b[1;33m*\u001b[0m\u001b[1;33m\u001b[0m\u001b[0m\n\u001b[1;32m--> 233\u001b[1;33m \u001b[1;32mfrom\u001b[0m \u001b[1;33m.\u001b[0m\u001b[0m_minimize\u001b[0m \u001b[1;32mimport\u001b[0m \u001b[1;33m*\u001b[0m\u001b[1;33m\u001b[0m\u001b[0m\n\u001b[0m\u001b[0;32m    234\u001b[0m \u001b[1;32mfrom\u001b[0m \u001b[1;33m.\u001b[0m\u001b[0m_root\u001b[0m \u001b[1;32mimport\u001b[0m \u001b[1;33m*\u001b[0m\u001b[1;33m\u001b[0m\u001b[0m\n\u001b[0;32m    235\u001b[0m \u001b[1;32mfrom\u001b[0m \u001b[1;33m.\u001b[0m\u001b[0mminpack\u001b[0m \u001b[1;32mimport\u001b[0m \u001b[1;33m*\u001b[0m\u001b[1;33m\u001b[0m\u001b[0m\n",
      "\u001b[1;32mC:\\Anaconda2\\lib\\site-packages\\scipy\\optimize\\_minimize.py\u001b[0m in \u001b[0;36m<module>\u001b[1;34m()\u001b[0m\n\u001b[0;32m     28\u001b[0m \u001b[1;33m\u001b[0m\u001b[0m\n\u001b[0;32m     29\u001b[0m \u001b[1;31m# constrained minimization\u001b[0m\u001b[1;33m\u001b[0m\u001b[1;33m\u001b[0m\u001b[0m\n\u001b[1;32m---> 30\u001b[1;33m \u001b[1;32mfrom\u001b[0m \u001b[1;33m.\u001b[0m\u001b[0mlbfgsb\u001b[0m \u001b[1;32mimport\u001b[0m \u001b[0m_minimize_lbfgsb\u001b[0m\u001b[1;33m\u001b[0m\u001b[0m\n\u001b[0m\u001b[0;32m     31\u001b[0m \u001b[1;32mfrom\u001b[0m \u001b[1;33m.\u001b[0m\u001b[0mtnc\u001b[0m \u001b[1;32mimport\u001b[0m \u001b[0m_minimize_tnc\u001b[0m\u001b[1;33m\u001b[0m\u001b[0m\n\u001b[0;32m     32\u001b[0m \u001b[1;32mfrom\u001b[0m \u001b[1;33m.\u001b[0m\u001b[0mcobyla\u001b[0m \u001b[1;32mimport\u001b[0m \u001b[0m_minimize_cobyla\u001b[0m\u001b[1;33m\u001b[0m\u001b[0m\n",
      "\u001b[1;32mC:\\Anaconda2\\lib\\site-packages\\scipy\\optimize\\lbfgsb.py\u001b[0m in \u001b[0;36m<module>\u001b[1;34m()\u001b[0m\n\u001b[0;32m     38\u001b[0m \u001b[1;32mimport\u001b[0m \u001b[0mnumpy\u001b[0m \u001b[1;32mas\u001b[0m \u001b[0mnp\u001b[0m\u001b[1;33m\u001b[0m\u001b[0m\n\u001b[0;32m     39\u001b[0m \u001b[1;32mfrom\u001b[0m \u001b[0mnumpy\u001b[0m \u001b[1;32mimport\u001b[0m \u001b[0marray\u001b[0m\u001b[1;33m,\u001b[0m \u001b[0masarray\u001b[0m\u001b[1;33m,\u001b[0m \u001b[0mfloat64\u001b[0m\u001b[1;33m,\u001b[0m \u001b[0mint32\u001b[0m\u001b[1;33m,\u001b[0m \u001b[0mzeros\u001b[0m\u001b[1;33m\u001b[0m\u001b[0m\n\u001b[1;32m---> 40\u001b[1;33m \u001b[1;32mfrom\u001b[0m \u001b[1;33m.\u001b[0m \u001b[1;32mimport\u001b[0m \u001b[0m_lbfgsb\u001b[0m\u001b[1;33m\u001b[0m\u001b[0m\n\u001b[0m\u001b[0;32m     41\u001b[0m from .optimize import (approx_fprime, MemoizeJac, OptimizeResult,\n\u001b[0;32m     42\u001b[0m                        \u001b[0m_check_unknown_options\u001b[0m\u001b[1;33m,\u001b[0m \u001b[0mwrap_function\u001b[0m\u001b[1;33m,\u001b[0m\u001b[1;33m\u001b[0m\u001b[0m\n",
      "\u001b[1;31mImportError\u001b[0m: cannot import name _lbfgsb"
     ]
    }
   ],
   "source": [
    "from scipy.optimize import fsolve\n",
    "from math import cos\n",
    "# 解非线性方程常用matlab的fsolve方法\n",
    "def f(x):\n",
    "    d = 140\n",
    "    l = 156\n",
    "    a = float(x[0])\n",
    "    r = float(x[1])\n",
    "    return [\n",
    "        cos(a) - 1 + (d*d)/(2*r*r),\n",
    "        l - r * a\n",
    "    ]\n",
    "    \n",
    "result = fsolve(f, [1, 1])\n",
    "print result"
   ]
  },
  {
   "cell_type": "code",
   "execution_count": null,
   "metadata": {
    "collapsed": true
   },
   "outputs": [],
   "source": []
  }
 ],
 "metadata": {
  "kernelspec": {
   "display_name": "Python 2",
   "language": "python",
   "name": "python2"
  },
  "language_info": {
   "codemirror_mode": {
    "name": "ipython",
    "version": 2
   },
   "file_extension": ".py",
   "mimetype": "text/x-python",
   "name": "python",
   "nbconvert_exporter": "python",
   "pygments_lexer": "ipython2",
   "version": "2.7.11"
  }
 },
 "nbformat": 4,
 "nbformat_minor": 0
}
